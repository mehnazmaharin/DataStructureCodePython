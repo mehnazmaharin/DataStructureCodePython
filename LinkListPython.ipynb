{
 "cells": [
  {
   "cell_type": "code",
   "execution_count": 24,
   "metadata": {},
   "outputs": [
    {
     "name": "stdout",
     "output_type": "stream",
     "text": [
      "ko\n",
      "Mon\n",
      "wed\n",
      "kgh\n",
      "None\n"
     ]
    }
   ],
   "source": [
    "class node:\n",
    "    def __init__(self,data=None):\n",
    "        self.data=data\n",
    "        self.next=None\n",
    "class LinkList:\n",
    "    def __init__(self):\n",
    "        self.head=None\n",
    "    def printlist(self):\n",
    "        e=self.head\n",
    "        while e is not None:\n",
    "            print(e.data)\n",
    "            e=e.next\n",
    "    def insert_at_first(self,val):\n",
    "        newnode=node(val)\n",
    "        newnode.next=self.head\n",
    "        self.head=newnode\n",
    "    def insert_at_last(self,val):\n",
    "        newnode=node(val)\n",
    "        newnode.next=None\n",
    "        if self.head==None:\n",
    "            self.head=newnode\n",
    "            return\n",
    "        new=self.head\n",
    "        while(new.next):\n",
    "            new=new.next\n",
    "        new.next=newnode\n",
    "    def inbetween(self,middle_node,val):\n",
    "        if(middle_node==None):\n",
    "            return \"The mention node is abset\"\n",
    "        newnode=node(val)\n",
    "        newnode.next=middle_node.next\n",
    "        middle_node.next=newnode\n",
    "    def remove_element(self,remove_val):\n",
    "        head_val=self.head\n",
    "        if(head_val is not None):\n",
    "            if(head_val.data==remove_val):\n",
    "                self.head=head_val.next\n",
    "                head_val=None\n",
    "                return\n",
    "        while(head_val is not None):\n",
    "            if(head_val.data==remove_val):\n",
    "                break\n",
    "            prev=head_val\n",
    "            head_val=head_val.next\n",
    "        if(head_val is None):\n",
    "            return\n",
    "        prev.next=head_val.next\n",
    "        head_val=None\n",
    "        \n",
    "    def remove_duplicate(self):\n",
    "        cur=sec=self.head\n",
    "        while(cur is not None):\n",
    "            while(sec.next is not None):\n",
    "                if(sec.next.data==cur.data):\n",
    "                    sec.next=sec.next.next\n",
    "                else:\n",
    "                    sec=sec.next\n",
    "            cur=sec=cur.next\n",
    "                \n",
    "        \n",
    "l1=LinkList()\n",
    "l1.head=node(\"Mon\")\n",
    "e2=node(\"tue\")\n",
    "\n",
    "e3=node(\"wed\")\n",
    "e4=node(\"Mon\")\n",
    "l1.head.next=e2\n",
    "e2.next=e3\n",
    "e3.next=e4\n",
    "\n",
    "#print(l1.printlist())\n",
    "l1.insert_at_first(\"ko\")\n",
    "l1.insert_at_last(\"kgh\")\n",
    "\n",
    "l1.remove_element(\"tue\")\n",
    "l1.remove_duplicate()\n",
    "print(l1.printlist())\n"
   ]
  },
  {
   "cell_type": "code",
   "execution_count": null,
   "metadata": {},
   "outputs": [],
   "source": []
  },
  {
   "cell_type": "code",
   "execution_count": null,
   "metadata": {},
   "outputs": [],
   "source": []
  }
 ],
 "metadata": {
  "kernelspec": {
   "display_name": "Python 2",
   "language": "python",
   "name": "python2"
  },
  "language_info": {
   "codemirror_mode": {
    "name": "ipython",
    "version": 2
   },
   "file_extension": ".py",
   "mimetype": "text/x-python",
   "name": "python",
   "nbconvert_exporter": "python",
   "pygments_lexer": "ipython2",
   "version": "2.7.16"
  }
 },
 "nbformat": 4,
 "nbformat_minor": 2
}
