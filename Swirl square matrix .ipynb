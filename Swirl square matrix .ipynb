{
 "cells": [
  {
   "cell_type": "code",
   "execution_count": 1,
   "metadata": {},
   "outputs": [
    {
     "name": "stdout",
     "output_type": "stream",
     "text": [
      "Enter your number:\n",
      "3\n"
     ]
    },
    {
     "data": {
      "text/plain": [
       "[[1, 2, 3], [4, 5, 6], [7, 8, 9]]"
      ]
     },
     "execution_count": 1,
     "metadata": {},
     "output_type": "execute_result"
    }
   ],
   "source": [
    "print('Enter your number:')\n",
    "n= int(input())\n",
    "\n",
    "\n",
    "def g_matrix(n):\n",
    "    if n<0:\n",
    "        return []\n",
    "    matrix=[row[:] for row in [[0]*n]*n]\n",
    "    current=1\n",
    "    \n",
    "            \n",
    "    for r in range(0,n):\n",
    "        for c in range(0,n):\n",
    "                    matrix[r][c]=current\n",
    "                    current+=1\n",
    "                    #c-=1\n",
    "    return matrix\n",
    "    \n",
    "        \n",
    "a=g_matrix(n)       \n",
    "a \n",
    "\n"
   ]
  },
  {
   "cell_type": "code",
   "execution_count": 2,
   "metadata": {},
   "outputs": [
    {
     "name": "stdout",
     "output_type": "stream",
     "text": [
      "1\n",
      "2\n",
      "3\n",
      "6\n",
      "9\n",
      "8\n",
      "7\n",
      "4\n",
      "5\n",
      "None\n"
     ]
    }
   ],
   "source": [
    "def spiral_print(n,b):\n",
    "    #i=1\n",
    "    for i in range(n):\n",
    "          print(b[0][i])\n",
    "    for i in range(1,n):\n",
    "        print(b[i][n-1])\n",
    "    #i-=1\n",
    "    n-=1\n",
    "    for i in range(n-1,-1,-1):\n",
    "            print(b[n][i])\n",
    "    for i in range(n):\n",
    "        print(b[n-1][i])\n",
    "    \n",
    "print(spiral_print(3,a))  "
   ]
  },
  {
   "cell_type": "code",
   "execution_count": null,
   "metadata": {},
   "outputs": [],
   "source": []
  }
 ],
 "metadata": {
  "kernelspec": {
   "display_name": "Python 2",
   "language": "python",
   "name": "python2"
  },
  "language_info": {
   "codemirror_mode": {
    "name": "ipython",
    "version": 2
   },
   "file_extension": ".py",
   "mimetype": "text/x-python",
   "name": "python",
   "nbconvert_exporter": "python",
   "pygments_lexer": "ipython2",
   "version": "2.7.16"
  }
 },
 "nbformat": 4,
 "nbformat_minor": 2
}
